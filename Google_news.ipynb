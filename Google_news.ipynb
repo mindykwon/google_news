{
 "cells": [
  {
   "cell_type": "markdown",
   "metadata": {},
   "source": [
    "## 파이썬 기초 복습"
   ]
  },
  {
   "cell_type": "markdown",
   "metadata": {},
   "source": [
    "### list 자료형"
   ]
  },
  {
   "cell_type": "code",
   "execution_count": 81,
   "metadata": {},
   "outputs": [],
   "source": [
    "color = ['보라', '노랑', '하늘', '초록']\n",
    "number = [1, 2, 3, 4, 5]"
   ]
  },
  {
   "cell_type": "code",
   "execution_count": 82,
   "metadata": {},
   "outputs": [
    {
     "name": "stdout",
     "output_type": "stream",
     "text": [
      "보라\n",
      "3\n",
      "4\n"
     ]
    }
   ],
   "source": [
    "print(color[0])\n",
    "print(number[2])\n",
    "print(len(color))"
   ]
  },
  {
   "cell_type": "markdown",
   "metadata": {},
   "source": [
    "#### 문제 1\n",
    "* number 리스트에서 4를 출력하시오."
   ]
  },
  {
   "cell_type": "code",
   "execution_count": null,
   "metadata": {},
   "outputs": [],
   "source": []
  },
  {
   "cell_type": "markdown",
   "metadata": {},
   "source": [
    "#### 문제 2\n",
    "* number 리스트 길이(데이터 수)를 출력하시오."
   ]
  },
  {
   "cell_type": "code",
   "execution_count": null,
   "metadata": {},
   "outputs": [],
   "source": []
  },
  {
   "cell_type": "markdown",
   "metadata": {},
   "source": [
    "## 파이썬 라이브러리 불러오기"
   ]
  },
  {
   "cell_type": "code",
   "execution_count": 83,
   "metadata": {},
   "outputs": [],
   "source": [
    "import pandas as pd\n",
    "from datetime import datetime\n",
    "import seaborn as sns\n",
    "import matplotlib.pyplot as plt\n",
    "import matplotlib.font_manager as fm\n",
    "from wordcloud import WordCloud"
   ]
  },
  {
   "cell_type": "markdown",
   "metadata": {},
   "source": [
    "## 데이터 불러오기\n",
    "* 2020.03.01 ~ 2020.03.05 경제 카테고리 뉴스기사"
   ]
  },
  {
   "cell_type": "code",
   "execution_count": 84,
   "metadata": {},
   "outputs": [],
   "source": [
    "data=pd.read_excel('news.xlsx')"
   ]
  },
  {
   "cell_type": "code",
   "execution_count": 85,
   "metadata": {},
   "outputs": [
    {
     "name": "stdout",
     "output_type": "stream",
     "text": [
      "(100, 4)\n"
     ]
    },
    {
     "data": {
      "text/html": [
       "<div>\n",
       "<style scoped>\n",
       "    .dataframe tbody tr th:only-of-type {\n",
       "        vertical-align: middle;\n",
       "    }\n",
       "\n",
       "    .dataframe tbody tr th {\n",
       "        vertical-align: top;\n",
       "    }\n",
       "\n",
       "    .dataframe thead th {\n",
       "        text-align: right;\n",
       "    }\n",
       "</style>\n",
       "<table border=\"1\" class=\"dataframe\">\n",
       "  <thead>\n",
       "    <tr style=\"text-align: right;\">\n",
       "      <th></th>\n",
       "      <th>Title</th>\n",
       "      <th>URL</th>\n",
       "      <th>Date Created</th>\n",
       "      <th>Summary</th>\n",
       "    </tr>\n",
       "  </thead>\n",
       "  <tbody>\n",
       "    <tr>\n",
       "      <th>0</th>\n",
       "      <td>Apple previews powerful software updates desig...</td>\n",
       "      <td>https://www.apple.com/newsroom/2021/05/apple-p...</td>\n",
       "      <td>Wed, 19 May 2021 07:00:00 GMT</td>\n",
       "      <td>Apple previews powerful software updates desig...</td>\n",
       "    </tr>\n",
       "    <tr>\n",
       "      <th>1</th>\n",
       "      <td>Halifax research group creates app to help bre...</td>\n",
       "      <td>https://globalnews.ca/news/7922598/halifax-res...</td>\n",
       "      <td>Fri, 04 Jun 2021 07:00:00 GMT</td>\n",
       "      <td>Halifax research group creates app to help bre...</td>\n",
       "    </tr>\n",
       "    <tr>\n",
       "      <th>2</th>\n",
       "      <td>Greenway trail users invited to weigh in on pr...</td>\n",
       "      <td>https://www.cbc.ca/news/canada/windsor/essex-c...</td>\n",
       "      <td>Tue, 25 May 2021 07:00:00 GMT</td>\n",
       "      <td>Greenway trail users invited to weigh in on pr...</td>\n",
       "    </tr>\n",
       "    <tr>\n",
       "      <th>3</th>\n",
       "      <td>City’s accessibility advisory committee celebr...</td>\n",
       "      <td>https://www.barrietoday.com/local-news/citys-a...</td>\n",
       "      <td>Thu, 27 May 2021 07:00:00 GMT</td>\n",
       "      <td>City’s accessibility advisory committee celebr...</td>\n",
       "    </tr>\n",
       "    <tr>\n",
       "      <th>4</th>\n",
       "      <td>TELUS Tech for Good program expands across Can...</td>\n",
       "      <td>https://www.globenewswire.com/news-release/202...</td>\n",
       "      <td>Mon, 31 May 2021 07:00:00 GMT</td>\n",
       "      <td>TELUS Tech for Good program expands across Can...</td>\n",
       "    </tr>\n",
       "  </tbody>\n",
       "</table>\n",
       "</div>"
      ],
      "text/plain": [
       "                                               Title  \\\n",
       "0  Apple previews powerful software updates desig...   \n",
       "1  Halifax research group creates app to help bre...   \n",
       "2  Greenway trail users invited to weigh in on pr...   \n",
       "3  City’s accessibility advisory committee celebr...   \n",
       "4  TELUS Tech for Good program expands across Can...   \n",
       "\n",
       "                                                 URL  \\\n",
       "0  https://www.apple.com/newsroom/2021/05/apple-p...   \n",
       "1  https://globalnews.ca/news/7922598/halifax-res...   \n",
       "2  https://www.cbc.ca/news/canada/windsor/essex-c...   \n",
       "3  https://www.barrietoday.com/local-news/citys-a...   \n",
       "4  https://www.globenewswire.com/news-release/202...   \n",
       "\n",
       "                    Date Created  \\\n",
       "0  Wed, 19 May 2021 07:00:00 GMT   \n",
       "1  Fri, 04 Jun 2021 07:00:00 GMT   \n",
       "2  Tue, 25 May 2021 07:00:00 GMT   \n",
       "3  Thu, 27 May 2021 07:00:00 GMT   \n",
       "4  Mon, 31 May 2021 07:00:00 GMT   \n",
       "\n",
       "                                             Summary  \n",
       "0  Apple previews powerful software updates desig...  \n",
       "1  Halifax research group creates app to help bre...  \n",
       "2  Greenway trail users invited to weigh in on pr...  \n",
       "3  City’s accessibility advisory committee celebr...  \n",
       "4  TELUS Tech for Good program expands across Can...  "
      ]
     },
     "execution_count": 85,
     "metadata": {},
     "output_type": "execute_result"
    }
   ],
   "source": [
    "print(data.shape)\n",
    "data.head()"
   ]
  },
  {
   "cell_type": "code",
   "execution_count": 86,
   "metadata": {},
   "outputs": [],
   "source": [
    "data['Date'] = pd.to_datetime(data['Date Created'])"
   ]
  },
  {
   "cell_type": "code",
   "execution_count": 87,
   "metadata": {},
   "outputs": [
    {
     "data": {
      "text/html": [
       "<div>\n",
       "<style scoped>\n",
       "    .dataframe tbody tr th:only-of-type {\n",
       "        vertical-align: middle;\n",
       "    }\n",
       "\n",
       "    .dataframe tbody tr th {\n",
       "        vertical-align: top;\n",
       "    }\n",
       "\n",
       "    .dataframe thead th {\n",
       "        text-align: right;\n",
       "    }\n",
       "</style>\n",
       "<table border=\"1\" class=\"dataframe\">\n",
       "  <thead>\n",
       "    <tr style=\"text-align: right;\">\n",
       "      <th></th>\n",
       "      <th>Title</th>\n",
       "      <th>URL</th>\n",
       "      <th>Date Created</th>\n",
       "      <th>Summary</th>\n",
       "      <th>Date</th>\n",
       "    </tr>\n",
       "  </thead>\n",
       "  <tbody>\n",
       "    <tr>\n",
       "      <th>0</th>\n",
       "      <td>Apple previews powerful software updates desig...</td>\n",
       "      <td>https://www.apple.com/newsroom/2021/05/apple-p...</td>\n",
       "      <td>Wed, 19 May 2021 07:00:00 GMT</td>\n",
       "      <td>Apple previews powerful software updates desig...</td>\n",
       "      <td>2021-05-19 07:00:00+00:00</td>\n",
       "    </tr>\n",
       "    <tr>\n",
       "      <th>1</th>\n",
       "      <td>Halifax research group creates app to help bre...</td>\n",
       "      <td>https://globalnews.ca/news/7922598/halifax-res...</td>\n",
       "      <td>Fri, 04 Jun 2021 07:00:00 GMT</td>\n",
       "      <td>Halifax research group creates app to help bre...</td>\n",
       "      <td>2021-06-04 07:00:00+00:00</td>\n",
       "    </tr>\n",
       "    <tr>\n",
       "      <th>2</th>\n",
       "      <td>Greenway trail users invited to weigh in on pr...</td>\n",
       "      <td>https://www.cbc.ca/news/canada/windsor/essex-c...</td>\n",
       "      <td>Tue, 25 May 2021 07:00:00 GMT</td>\n",
       "      <td>Greenway trail users invited to weigh in on pr...</td>\n",
       "      <td>2021-05-25 07:00:00+00:00</td>\n",
       "    </tr>\n",
       "    <tr>\n",
       "      <th>3</th>\n",
       "      <td>City’s accessibility advisory committee celebr...</td>\n",
       "      <td>https://www.barrietoday.com/local-news/citys-a...</td>\n",
       "      <td>Thu, 27 May 2021 07:00:00 GMT</td>\n",
       "      <td>City’s accessibility advisory committee celebr...</td>\n",
       "      <td>2021-05-27 07:00:00+00:00</td>\n",
       "    </tr>\n",
       "    <tr>\n",
       "      <th>4</th>\n",
       "      <td>TELUS Tech for Good program expands across Can...</td>\n",
       "      <td>https://www.globenewswire.com/news-release/202...</td>\n",
       "      <td>Mon, 31 May 2021 07:00:00 GMT</td>\n",
       "      <td>TELUS Tech for Good program expands across Can...</td>\n",
       "      <td>2021-05-31 07:00:00+00:00</td>\n",
       "    </tr>\n",
       "  </tbody>\n",
       "</table>\n",
       "</div>"
      ],
      "text/plain": [
       "                                               Title  \\\n",
       "0  Apple previews powerful software updates desig...   \n",
       "1  Halifax research group creates app to help bre...   \n",
       "2  Greenway trail users invited to weigh in on pr...   \n",
       "3  City’s accessibility advisory committee celebr...   \n",
       "4  TELUS Tech for Good program expands across Can...   \n",
       "\n",
       "                                                 URL  \\\n",
       "0  https://www.apple.com/newsroom/2021/05/apple-p...   \n",
       "1  https://globalnews.ca/news/7922598/halifax-res...   \n",
       "2  https://www.cbc.ca/news/canada/windsor/essex-c...   \n",
       "3  https://www.barrietoday.com/local-news/citys-a...   \n",
       "4  https://www.globenewswire.com/news-release/202...   \n",
       "\n",
       "                    Date Created  \\\n",
       "0  Wed, 19 May 2021 07:00:00 GMT   \n",
       "1  Fri, 04 Jun 2021 07:00:00 GMT   \n",
       "2  Tue, 25 May 2021 07:00:00 GMT   \n",
       "3  Thu, 27 May 2021 07:00:00 GMT   \n",
       "4  Mon, 31 May 2021 07:00:00 GMT   \n",
       "\n",
       "                                             Summary                      Date  \n",
       "0  Apple previews powerful software updates desig... 2021-05-19 07:00:00+00:00  \n",
       "1  Halifax research group creates app to help bre... 2021-06-04 07:00:00+00:00  \n",
       "2  Greenway trail users invited to weigh in on pr... 2021-05-25 07:00:00+00:00  \n",
       "3  City’s accessibility advisory committee celebr... 2021-05-27 07:00:00+00:00  \n",
       "4  TELUS Tech for Good program expands across Can... 2021-05-31 07:00:00+00:00  "
      ]
     },
     "execution_count": 87,
     "metadata": {},
     "output_type": "execute_result"
    }
   ],
   "source": [
    "data.head()"
   ]
  },
  {
   "cell_type": "code",
   "execution_count": 88,
   "metadata": {},
   "outputs": [],
   "source": [
    "data['Date_year'] = data['Date'].dt.strftime('%y')\n",
    "data['Date_month'] = data['Date'].dt.strftime('%y%m')"
   ]
  },
  {
   "cell_type": "code",
   "execution_count": 89,
   "metadata": {},
   "outputs": [
    {
     "data": {
      "text/html": [
       "<div>\n",
       "<style scoped>\n",
       "    .dataframe tbody tr th:only-of-type {\n",
       "        vertical-align: middle;\n",
       "    }\n",
       "\n",
       "    .dataframe tbody tr th {\n",
       "        vertical-align: top;\n",
       "    }\n",
       "\n",
       "    .dataframe thead th {\n",
       "        text-align: right;\n",
       "    }\n",
       "</style>\n",
       "<table border=\"1\" class=\"dataframe\">\n",
       "  <thead>\n",
       "    <tr style=\"text-align: right;\">\n",
       "      <th></th>\n",
       "      <th>Title</th>\n",
       "      <th>URL</th>\n",
       "      <th>Date Created</th>\n",
       "      <th>Summary</th>\n",
       "      <th>Date</th>\n",
       "      <th>Date_year</th>\n",
       "      <th>Date_month</th>\n",
       "    </tr>\n",
       "  </thead>\n",
       "  <tbody>\n",
       "    <tr>\n",
       "      <th>0</th>\n",
       "      <td>Apple previews powerful software updates desig...</td>\n",
       "      <td>https://www.apple.com/newsroom/2021/05/apple-p...</td>\n",
       "      <td>Wed, 19 May 2021 07:00:00 GMT</td>\n",
       "      <td>Apple previews powerful software updates desig...</td>\n",
       "      <td>2021-05-19 07:00:00+00:00</td>\n",
       "      <td>21</td>\n",
       "      <td>2105</td>\n",
       "    </tr>\n",
       "    <tr>\n",
       "      <th>1</th>\n",
       "      <td>Halifax research group creates app to help bre...</td>\n",
       "      <td>https://globalnews.ca/news/7922598/halifax-res...</td>\n",
       "      <td>Fri, 04 Jun 2021 07:00:00 GMT</td>\n",
       "      <td>Halifax research group creates app to help bre...</td>\n",
       "      <td>2021-06-04 07:00:00+00:00</td>\n",
       "      <td>21</td>\n",
       "      <td>2106</td>\n",
       "    </tr>\n",
       "    <tr>\n",
       "      <th>2</th>\n",
       "      <td>Greenway trail users invited to weigh in on pr...</td>\n",
       "      <td>https://www.cbc.ca/news/canada/windsor/essex-c...</td>\n",
       "      <td>Tue, 25 May 2021 07:00:00 GMT</td>\n",
       "      <td>Greenway trail users invited to weigh in on pr...</td>\n",
       "      <td>2021-05-25 07:00:00+00:00</td>\n",
       "      <td>21</td>\n",
       "      <td>2105</td>\n",
       "    </tr>\n",
       "    <tr>\n",
       "      <th>3</th>\n",
       "      <td>City’s accessibility advisory committee celebr...</td>\n",
       "      <td>https://www.barrietoday.com/local-news/citys-a...</td>\n",
       "      <td>Thu, 27 May 2021 07:00:00 GMT</td>\n",
       "      <td>City’s accessibility advisory committee celebr...</td>\n",
       "      <td>2021-05-27 07:00:00+00:00</td>\n",
       "      <td>21</td>\n",
       "      <td>2105</td>\n",
       "    </tr>\n",
       "    <tr>\n",
       "      <th>4</th>\n",
       "      <td>TELUS Tech for Good program expands across Can...</td>\n",
       "      <td>https://www.globenewswire.com/news-release/202...</td>\n",
       "      <td>Mon, 31 May 2021 07:00:00 GMT</td>\n",
       "      <td>TELUS Tech for Good program expands across Can...</td>\n",
       "      <td>2021-05-31 07:00:00+00:00</td>\n",
       "      <td>21</td>\n",
       "      <td>2105</td>\n",
       "    </tr>\n",
       "  </tbody>\n",
       "</table>\n",
       "</div>"
      ],
      "text/plain": [
       "                                               Title  \\\n",
       "0  Apple previews powerful software updates desig...   \n",
       "1  Halifax research group creates app to help bre...   \n",
       "2  Greenway trail users invited to weigh in on pr...   \n",
       "3  City’s accessibility advisory committee celebr...   \n",
       "4  TELUS Tech for Good program expands across Can...   \n",
       "\n",
       "                                                 URL  \\\n",
       "0  https://www.apple.com/newsroom/2021/05/apple-p...   \n",
       "1  https://globalnews.ca/news/7922598/halifax-res...   \n",
       "2  https://www.cbc.ca/news/canada/windsor/essex-c...   \n",
       "3  https://www.barrietoday.com/local-news/citys-a...   \n",
       "4  https://www.globenewswire.com/news-release/202...   \n",
       "\n",
       "                    Date Created  \\\n",
       "0  Wed, 19 May 2021 07:00:00 GMT   \n",
       "1  Fri, 04 Jun 2021 07:00:00 GMT   \n",
       "2  Tue, 25 May 2021 07:00:00 GMT   \n",
       "3  Thu, 27 May 2021 07:00:00 GMT   \n",
       "4  Mon, 31 May 2021 07:00:00 GMT   \n",
       "\n",
       "                                             Summary  \\\n",
       "0  Apple previews powerful software updates desig...   \n",
       "1  Halifax research group creates app to help bre...   \n",
       "2  Greenway trail users invited to weigh in on pr...   \n",
       "3  City’s accessibility advisory committee celebr...   \n",
       "4  TELUS Tech for Good program expands across Can...   \n",
       "\n",
       "                       Date Date_year Date_month  \n",
       "0 2021-05-19 07:00:00+00:00        21       2105  \n",
       "1 2021-06-04 07:00:00+00:00        21       2106  \n",
       "2 2021-05-25 07:00:00+00:00        21       2105  \n",
       "3 2021-05-27 07:00:00+00:00        21       2105  \n",
       "4 2021-05-31 07:00:00+00:00        21       2105  "
      ]
     },
     "execution_count": 89,
     "metadata": {},
     "output_type": "execute_result"
    }
   ],
   "source": [
    "data.head()"
   ]
  },
  {
   "cell_type": "code",
   "execution_count": 90,
   "metadata": {},
   "outputs": [
    {
     "data": {
      "text/plain": [
       "20    35\n",
       "21    30\n",
       "19    16\n",
       "15     8\n",
       "16     4\n",
       "17     3\n",
       "18     2\n",
       "14     1\n",
       "13     1\n",
       "Name: Date_year, dtype: int64"
      ]
     },
     "execution_count": 90,
     "metadata": {},
     "output_type": "execute_result"
    }
   ],
   "source": [
    "data['Date_year'].value_counts()"
   ]
  },
  {
   "cell_type": "markdown",
   "metadata": {},
   "source": [
    "## plot 시각화 하기"
   ]
  },
  {
   "cell_type": "code",
   "execution_count": 91,
   "metadata": {},
   "outputs": [
    {
     "data": {
      "image/png": "[encoded data removed]",
      "text/plain": [
       "<Figure size 864x432 with 1 Axes>"
      ]
     },
     "metadata": {
      "needs_background": "light"
     },
     "output_type": "display_data"
    }
   ],
   "source": [
    "font_loc = 'C:\\\\windows\\\\fonts\\\\malgun.ttf'\n",
    "font_name = fm.FontProperties(fname=font_loc).get_name()\n",
    "\n",
    "figure,((ax1)) = plt.subplots(nrows=1, ncols=1)\n",
    "figure.set_size_inches(12, 6)\n",
    "\n",
    "sns.countplot(data['Date_year'])\n",
    "\n",
    "plt.rc('font', family=font_name)"
   ]
  },
  {
   "cell_type": "code",
   "execution_count": 92,
   "metadata": {},
   "outputs": [
    {
     "data": {
      "image/png": "[encoded data removed]",
      "text/plain": [
       "<Figure size 1152x432 with 1 Axes>"
      ]
     },
     "metadata": {
      "needs_background": "light"
     },
     "output_type": "display_data"
    }
   ],
   "source": [
    "font_loc = 'C:\\\\windows\\\\fonts\\\\malgun.ttf'\n",
    "font_name = fm.FontProperties(fname=font_loc).get_name()\n",
    "\n",
    "figure,((ax1)) = plt.subplots(nrows=1, ncols=1)\n",
    "figure.set_size_inches(16, 6)\n",
    "\n",
    "sns.countplot(data['Date_month'])\n",
    "\n",
    "plt.rc('font', family=font_name)"
   ]
  },
  {
   "cell_type": "markdown",
   "metadata": {},
   "source": [
    "## 제목 키워드 추출"
   ]
  },
  {
   "cell_type": "code",
   "execution_count": 93,
   "metadata": {},
   "outputs": [
    {
     "name": "stdout",
     "output_type": "stream",
     "text": [
      "Apple previews powerful software updates designed for people with disabilities - Apple Newsroom\n"
     ]
    }
   ],
   "source": [
    "data1 = data['Title'][0]\n",
    "print(data1)"
   ]
  },
  {
   "cell_type": "code",
   "execution_count": 94,
   "metadata": {},
   "outputs": [],
   "source": [
    "from nltk.tokenize import word_tokenize"
   ]
  },
  {
   "cell_type": "code",
   "execution_count": 95,
   "metadata": {
    "scrolled": true
   },
   "outputs": [
    {
     "ename": "AttributeError",
     "evalue": "module 'nltk' has no attribute 'data'",
     "output_type": "error",
     "traceback": [
      "\u001b[1;31m---------------------------------------------------------------------------\u001b[0m",
      "\u001b[1;31mAttributeError\u001b[0m                            Traceback (most recent call last)",
      "\u001b[1;32m<ipython-input-95-351f8c8872f1>\u001b[0m in \u001b[0;36m<module>\u001b[1;34m\u001b[0m\n\u001b[1;32m----> 1\u001b[1;33m \u001b[0mword_tokenize\u001b[0m\u001b[1;33m(\u001b[0m\u001b[0mdata1\u001b[0m\u001b[1;33m)\u001b[0m\u001b[1;33m\u001b[0m\u001b[1;33m\u001b[0m\u001b[0m\n\u001b[0m",
      "\u001b[1;32m~\\Anaconda3\\lib\\site-packages\\nltk\\tokenize\\__init__.py\u001b[0m in \u001b[0;36mword_tokenize\u001b[1;34m(text, language, preserve_line)\u001b[0m\n\u001b[0;32m    141\u001b[0m     \u001b[1;33m:\u001b[0m\u001b[0mtype\u001b[0m \u001b[0mpreserve_line\u001b[0m\u001b[1;33m:\u001b[0m \u001b[0mbool\u001b[0m\u001b[1;33m\u001b[0m\u001b[1;33m\u001b[0m\u001b[0m\n\u001b[0;32m    142\u001b[0m     \"\"\"\n\u001b[1;32m--> 143\u001b[1;33m     \u001b[0msentences\u001b[0m \u001b[1;33m=\u001b[0m \u001b[1;33m[\u001b[0m\u001b[0mtext\u001b[0m\u001b[1;33m]\u001b[0m \u001b[1;32mif\u001b[0m \u001b[0mpreserve_line\u001b[0m \u001b[1;32melse\u001b[0m \u001b[0msent_tokenize\u001b[0m\u001b[1;33m(\u001b[0m\u001b[0mtext\u001b[0m\u001b[1;33m,\u001b[0m \u001b[0mlanguage\u001b[0m\u001b[1;33m)\u001b[0m\u001b[1;33m\u001b[0m\u001b[1;33m\u001b[0m\u001b[0m\n\u001b[0m\u001b[0;32m    144\u001b[0m     return [\n\u001b[0;32m    145\u001b[0m         \u001b[0mtoken\u001b[0m \u001b[1;32mfor\u001b[0m \u001b[0msent\u001b[0m \u001b[1;32min\u001b[0m \u001b[0msentences\u001b[0m \u001b[1;32mfor\u001b[0m \u001b[0mtoken\u001b[0m \u001b[1;32min\u001b[0m \u001b[0m_treebank_word_tokenizer\u001b[0m\u001b[1;33m.\u001b[0m\u001b[0mtokenize\u001b[0m\u001b[1;33m(\u001b[0m\u001b[0msent\u001b[0m\u001b[1;33m)\u001b[0m\u001b[1;33m\u001b[0m\u001b[1;33m\u001b[0m\u001b[0m\n",
      "\u001b[1;32m~\\Anaconda3\\lib\\site-packages\\nltk\\tokenize\\__init__.py\u001b[0m in \u001b[0;36msent_tokenize\u001b[1;34m(text, language)\u001b[0m\n\u001b[0;32m    102\u001b[0m     \u001b[1;33m:\u001b[0m\u001b[0mparam\u001b[0m \u001b[0mlanguage\u001b[0m\u001b[1;33m:\u001b[0m \u001b[0mthe\u001b[0m \u001b[0mmodel\u001b[0m \u001b[0mname\u001b[0m \u001b[1;32min\u001b[0m \u001b[0mthe\u001b[0m \u001b[0mPunkt\u001b[0m \u001b[0mcorpus\u001b[0m\u001b[1;33m\u001b[0m\u001b[1;33m\u001b[0m\u001b[0m\n\u001b[0;32m    103\u001b[0m     \"\"\"\n\u001b[1;32m--> 104\u001b[1;33m     \u001b[0mtokenizer\u001b[0m \u001b[1;33m=\u001b[0m \u001b[0mload\u001b[0m\u001b[1;33m(\u001b[0m\u001b[1;34m'tokenizers/punkt/{0}.pickle'\u001b[0m\u001b[1;33m.\u001b[0m\u001b[0mformat\u001b[0m\u001b[1;33m(\u001b[0m\u001b[0mlanguage\u001b[0m\u001b[1;33m)\u001b[0m\u001b[1;33m)\u001b[0m\u001b[1;33m\u001b[0m\u001b[1;33m\u001b[0m\u001b[0m\n\u001b[0m\u001b[0;32m    105\u001b[0m     \u001b[1;32mreturn\u001b[0m \u001b[0mtokenizer\u001b[0m\u001b[1;33m.\u001b[0m\u001b[0mtokenize\u001b[0m\u001b[1;33m(\u001b[0m\u001b[0mtext\u001b[0m\u001b[1;33m)\u001b[0m\u001b[1;33m\u001b[0m\u001b[1;33m\u001b[0m\u001b[0m\n\u001b[0;32m    106\u001b[0m \u001b[1;33m\u001b[0m\u001b[0m\n",
      "\u001b[1;32m~\\Anaconda3\\lib\\site-packages\\nltk\\data.py\u001b[0m in \u001b[0;36mload\u001b[1;34m(resource_url, format, cache, verbose, logic_parser, fstruct_reader, encoding)\u001b[0m\n\u001b[0;32m    871\u001b[0m         \u001b[0mresource_val\u001b[0m \u001b[1;33m=\u001b[0m \u001b[0mopened_resource\u001b[0m\u001b[1;33m.\u001b[0m\u001b[0mread\u001b[0m\u001b[1;33m(\u001b[0m\u001b[1;33m)\u001b[0m\u001b[1;33m\u001b[0m\u001b[1;33m\u001b[0m\u001b[0m\n\u001b[0;32m    872\u001b[0m     \u001b[1;32melif\u001b[0m \u001b[0mformat\u001b[0m \u001b[1;33m==\u001b[0m \u001b[1;34m'pickle'\u001b[0m\u001b[1;33m:\u001b[0m\u001b[1;33m\u001b[0m\u001b[1;33m\u001b[0m\u001b[0m\n\u001b[1;32m--> 873\u001b[1;33m         \u001b[0mresource_val\u001b[0m \u001b[1;33m=\u001b[0m \u001b[0mpickle\u001b[0m\u001b[1;33m.\u001b[0m\u001b[0mload\u001b[0m\u001b[1;33m(\u001b[0m\u001b[0mopened_resource\u001b[0m\u001b[1;33m)\u001b[0m\u001b[1;33m\u001b[0m\u001b[1;33m\u001b[0m\u001b[0m\n\u001b[0m\u001b[0;32m    874\u001b[0m     \u001b[1;32melif\u001b[0m \u001b[0mformat\u001b[0m \u001b[1;33m==\u001b[0m \u001b[1;34m'json'\u001b[0m\u001b[1;33m:\u001b[0m\u001b[1;33m\u001b[0m\u001b[1;33m\u001b[0m\u001b[0m\n\u001b[0;32m    875\u001b[0m         \u001b[1;32mimport\u001b[0m \u001b[0mjson\u001b[0m\u001b[1;33m\u001b[0m\u001b[1;33m\u001b[0m\u001b[0m\n",
      "\u001b[1;32m~\\Anaconda3\\lib\\site-packages\\nltk\\__init__.py\u001b[0m in \u001b[0;36m<module>\u001b[1;34m\u001b[0m\n\u001b[0;32m    174\u001b[0m     \u001b[1;32mfrom\u001b[0m \u001b[0mnltk\u001b[0m \u001b[1;32mimport\u001b[0m \u001b[0mcluster\u001b[0m\u001b[1;33m\u001b[0m\u001b[1;33m\u001b[0m\u001b[0m\n\u001b[0;32m    175\u001b[0m \u001b[1;33m\u001b[0m\u001b[0m\n\u001b[1;32m--> 176\u001b[1;33m \u001b[1;32mfrom\u001b[0m \u001b[0mnltk\u001b[0m\u001b[1;33m.\u001b[0m\u001b[0mdownloader\u001b[0m \u001b[1;32mimport\u001b[0m \u001b[0mdownload\u001b[0m\u001b[1;33m,\u001b[0m \u001b[0mdownload_shell\u001b[0m\u001b[1;33m\u001b[0m\u001b[1;33m\u001b[0m\u001b[0m\n\u001b[0m\u001b[0;32m    177\u001b[0m \u001b[1;33m\u001b[0m\u001b[0m\n\u001b[0;32m    178\u001b[0m \u001b[1;32mtry\u001b[0m\u001b[1;33m:\u001b[0m\u001b[1;33m\u001b[0m\u001b[1;33m\u001b[0m\u001b[0m\n",
      "\u001b[1;32m~\\Anaconda3\\lib\\site-packages\\nltk\\downloader.py\u001b[0m in \u001b[0;36m<module>\u001b[1;34m\u001b[0m\n\u001b[0;32m   2511\u001b[0m \u001b[1;33m\u001b[0m\u001b[0m\n\u001b[0;32m   2512\u001b[0m \u001b[1;31m# Aliases\u001b[0m\u001b[1;33m\u001b[0m\u001b[1;33m\u001b[0m\u001b[1;33m\u001b[0m\u001b[0m\n\u001b[1;32m-> 2513\u001b[1;33m \u001b[0m_downloader\u001b[0m \u001b[1;33m=\u001b[0m \u001b[0mDownloader\u001b[0m\u001b[1;33m(\u001b[0m\u001b[1;33m)\u001b[0m\u001b[1;33m\u001b[0m\u001b[1;33m\u001b[0m\u001b[0m\n\u001b[0m\u001b[0;32m   2514\u001b[0m \u001b[0mdownload\u001b[0m \u001b[1;33m=\u001b[0m \u001b[0m_downloader\u001b[0m\u001b[1;33m.\u001b[0m\u001b[0mdownload\u001b[0m\u001b[1;33m\u001b[0m\u001b[1;33m\u001b[0m\u001b[0m\n\u001b[0;32m   2515\u001b[0m \u001b[1;33m\u001b[0m\u001b[0m\n",
      "\u001b[1;32m~\\Anaconda3\\lib\\site-packages\\nltk\\downloader.py\u001b[0m in \u001b[0;36m__init__\u001b[1;34m(self, server_index_url, download_dir)\u001b[0m\n\u001b[0;32m    519\u001b[0m         \u001b[1;31m# decide where we're going to save things to.\u001b[0m\u001b[1;33m\u001b[0m\u001b[1;33m\u001b[0m\u001b[1;33m\u001b[0m\u001b[0m\n\u001b[0;32m    520\u001b[0m         \u001b[1;32mif\u001b[0m \u001b[0mself\u001b[0m\u001b[1;33m.\u001b[0m\u001b[0m_download_dir\u001b[0m \u001b[1;32mis\u001b[0m \u001b[1;32mNone\u001b[0m\u001b[1;33m:\u001b[0m\u001b[1;33m\u001b[0m\u001b[1;33m\u001b[0m\u001b[0m\n\u001b[1;32m--> 521\u001b[1;33m             \u001b[0mself\u001b[0m\u001b[1;33m.\u001b[0m\u001b[0m_download_dir\u001b[0m \u001b[1;33m=\u001b[0m \u001b[0mself\u001b[0m\u001b[1;33m.\u001b[0m\u001b[0mdefault_download_dir\u001b[0m\u001b[1;33m(\u001b[0m\u001b[1;33m)\u001b[0m\u001b[1;33m\u001b[0m\u001b[1;33m\u001b[0m\u001b[0m\n\u001b[0m\u001b[0;32m    522\u001b[0m \u001b[1;33m\u001b[0m\u001b[0m\n\u001b[0;32m    523\u001b[0m     \u001b[1;31m# /////////////////////////////////////////////////////////////////\u001b[0m\u001b[1;33m\u001b[0m\u001b[1;33m\u001b[0m\u001b[1;33m\u001b[0m\u001b[0m\n",
      "\u001b[1;32m~\\Anaconda3\\lib\\site-packages\\nltk\\downloader.py\u001b[0m in \u001b[0;36mdefault_download_dir\u001b[1;34m(self)\u001b[0m\n\u001b[0;32m   1079\u001b[0m         \u001b[1;31m# Check if we have sufficient permissions to install in a\u001b[0m\u001b[1;33m\u001b[0m\u001b[1;33m\u001b[0m\u001b[1;33m\u001b[0m\u001b[0m\n\u001b[0;32m   1080\u001b[0m         \u001b[1;31m# variety of system-wide locations.\u001b[0m\u001b[1;33m\u001b[0m\u001b[1;33m\u001b[0m\u001b[1;33m\u001b[0m\u001b[0m\n\u001b[1;32m-> 1081\u001b[1;33m         \u001b[1;32mfor\u001b[0m \u001b[0mnltkdir\u001b[0m \u001b[1;32min\u001b[0m \u001b[0mnltk\u001b[0m\u001b[1;33m.\u001b[0m\u001b[0mdata\u001b[0m\u001b[1;33m.\u001b[0m\u001b[0mpath\u001b[0m\u001b[1;33m:\u001b[0m\u001b[1;33m\u001b[0m\u001b[1;33m\u001b[0m\u001b[0m\n\u001b[0m\u001b[0;32m   1082\u001b[0m             \u001b[1;32mif\u001b[0m \u001b[0mos\u001b[0m\u001b[1;33m.\u001b[0m\u001b[0mpath\u001b[0m\u001b[1;33m.\u001b[0m\u001b[0mexists\u001b[0m\u001b[1;33m(\u001b[0m\u001b[0mnltkdir\u001b[0m\u001b[1;33m)\u001b[0m \u001b[1;32mand\u001b[0m \u001b[0mnltk\u001b[0m\u001b[1;33m.\u001b[0m\u001b[0minternals\u001b[0m\u001b[1;33m.\u001b[0m\u001b[0mis_writable\u001b[0m\u001b[1;33m(\u001b[0m\u001b[0mnltkdir\u001b[0m\u001b[1;33m)\u001b[0m\u001b[1;33m:\u001b[0m\u001b[1;33m\u001b[0m\u001b[1;33m\u001b[0m\u001b[0m\n\u001b[0;32m   1083\u001b[0m                 \u001b[1;32mreturn\u001b[0m \u001b[0mnltkdir\u001b[0m\u001b[1;33m\u001b[0m\u001b[1;33m\u001b[0m\u001b[0m\n",
      "\u001b[1;31mAttributeError\u001b[0m: module 'nltk' has no attribute 'data'"
     ]
    }
   ],
   "source": [
    "word_tokenize(data1)"
   ]
  },
  {
   "cell_type": "code",
   "execution_count": null,
   "metadata": {},
   "outputs": [],
   "source": []
  },
  {
   "cell_type": "markdown",
   "metadata": {},
   "source": [
    "#### 문제 4\n",
    "* 5번째 뉴스기사의 제목을 출력하시오. (주의 : 1번째 뉴스기사의 번호 '0'부터 시작)"
   ]
  },
  {
   "cell_type": "code",
   "execution_count": null,
   "metadata": {},
   "outputs": [],
   "source": []
  },
  {
   "cell_type": "markdown",
   "metadata": {},
   "source": [
    "#### 문제 5\n",
    "* 5번째 뉴스기사의 제목에서 명사를 추출하시오."
   ]
  },
  {
   "cell_type": "code",
   "execution_count": null,
   "metadata": {},
   "outputs": [],
   "source": []
  },
  {
   "cell_type": "code",
   "execution_count": null,
   "metadata": {},
   "outputs": [],
   "source": [
    "title_keyword = []\n",
    "stop_words = []\n",
    "\n",
    "for i in data['제목']:\n",
    "    tokens = mecab.nouns(i)\n",
    "    tokens=[each_word for each_word in tokens if each_word not in stop_words and len(each_word)>1]\n",
    "    title_keyword.append(tokens)"
   ]
  },
  {
   "cell_type": "code",
   "execution_count": null,
   "metadata": {},
   "outputs": [],
   "source": [
    "title_keyword[10000]"
   ]
  },
  {
   "cell_type": "markdown",
   "metadata": {},
   "source": [
    "## 키워드 빈도"
   ]
  },
  {
   "cell_type": "code",
   "execution_count": null,
   "metadata": {},
   "outputs": [],
   "source": [
    "import nltk\n",
    "\n",
    "ff=0\n",
    "tokens_ko=[]\n",
    "\n",
    "for i in title_keyword:\n",
    "    for j in i:\n",
    "        if j not in stop_words:\n",
    "            tokens_ko.append(j)\n",
    "        \n",
    "ko = nltk.Text(tokens_ko)\n",
    "ko.vocab().most_common(20)"
   ]
  },
  {
   "cell_type": "markdown",
   "metadata": {},
   "source": [
    "## wordcloud 그리기 (글씨크기는 키워드 빈도수에 비례)"
   ]
  },
  {
   "cell_type": "code",
   "execution_count": null,
   "metadata": {},
   "outputs": [],
   "source": [
    "from wordcloud import WordCloud\n",
    "import matplotlib.pyplot as plt\n",
    "\n",
    "font_loc = 'C:\\\\windows\\\\fonts\\\\malgun.ttf'\n",
    "font_name = fm.FontProperties(fname=font_loc).get_name()\n",
    "plt.rc('font', family=font_name)\n",
    "\n",
    "wc=ko.vocab().most_common(300)\n",
    "tmp_data=dict(wc)\n",
    "wordcloud=WordCloud(font_path=font_loc, relative_scaling=0.2, background_color=\"white\").generate_from_frequencies(tmp_data)\n",
    "plt.figure(figsize=(12,8))\n",
    "plt.imshow(wordcloud)\n",
    "plt.axis(\"off\")\n",
    "plt.show()"
   ]
  },
  {
   "cell_type": "code",
   "execution_count": null,
   "metadata": {},
   "outputs": [],
   "source": []
  },
  {
   "cell_type": "code",
   "execution_count": null,
   "metadata": {},
   "outputs": [],
   "source": []
  },
  {
   "cell_type": "code",
   "execution_count": null,
   "metadata": {},
   "outputs": [],
   "source": [
    "import site; site.getsitepackages() "
   ]
  }
 ],
 "metadata": {
  "kernelspec": {
   "display_name": "Python 3",
   "language": "python",
   "name": "python3"
  },
  "language_info": {
   "codemirror_mode": {
    "name": "ipython",
    "version": 3
   },
   "file_extension": ".py",
   "mimetype": "text/x-python",
   "name": "python",
   "nbconvert_exporter": "python",
   "pygments_lexer": "ipython3",
   "version": "3.7.3"
  }
 },
 "nbformat": 4,
 "nbformat_minor": 2
}
